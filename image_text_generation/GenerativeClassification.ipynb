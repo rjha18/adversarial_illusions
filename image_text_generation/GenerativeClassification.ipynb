{
 "cells": [
  {
   "cell_type": "markdown",
   "id": "9a29bc4a-8a32-4f14-9808-b70ee612f78f",
   "metadata": {},
   "source": [
    "### 1. Define ImageBind model"
   ]
  },
  {
   "cell_type": "code",
   "execution_count": 15,
   "id": "4f111e22-7fdb-4654-b5c3-aa9eccac7678",
   "metadata": {},
   "outputs": [],
   "source": [
    "# Standard Libraries\n",
    "import os\n",
    "import json\n",
    "import numpy as np\n",
    "import matplotlib.pyplot as plt\n",
    "from tqdm.notebook import tqdm\n",
    "import json\n",
    "import requests\n",
    "\n",
    "# PyTorch and Related Libraries\n",
    "import torch\n",
    "import torchvision.models as models\n",
    "import torchvision.transforms as transforms\n",
    "from torchvision.utils import save_image\n",
    "from PIL import Image\n",
    "from transformers import ViTFeatureExtractor, ViTForImageClassification\n",
    "\n",
    "# Custom Modules\n",
    "import image_bind.data as data\n",
    "from image_bind.models import imagebind_model\n",
    "from image_bind.models.imagebind_model import ModalityType\n",
    "from ldm.models.diffusion.ddpm import ImageEmbeddingConditionedLatentDiffusion\n",
    "from ldm.models.diffusion.ddim import DDIMSampler\n",
    "\n",
    "# Configuration Management\n",
    "from omegaconf import OmegaConf\n",
    "from easydict import EasyDict\n",
    "\n",
    "# Ensure your models and data paths are correctly set up\n",
    "# and any necessary initialization for custom modules is done here."
   ]
  },
  {
   "cell_type": "code",
   "execution_count": 16,
   "id": "046eeb0e-46d6-4bf3-a67b-8ee2aca09877",
   "metadata": {},
   "outputs": [],
   "source": [
    "class Binder:\n",
    "    \"\"\" Wrapper for ImageBind model\n",
    "    \"\"\"\n",
    "    def __init__(self, pth_path, device='cuda'):\n",
    "        self.model = imagebind_model.imagebind_huge(pretrained=True)\n",
    "        self.device = device\n",
    "        self.model.eval()\n",
    "        self.model.to(device)\n",
    "\n",
    "        self.data_process_dict = {ModalityType.TEXT: data.load_and_transform_text,\n",
    "                                  ModalityType.VISION: data.load_and_transform_vision_data,\n",
    "                                  ModalityType.AUDIO: data.load_and_transform_audio_data}\n",
    "\n",
    "    def run(self, ctype, cpaths, post_process=False):\n",
    "        \"\"\" ctype: str\n",
    "            cpaths: list[str]\n",
    "        \"\"\"\n",
    "        inputs = {ctype: self.data_process_dict[ctype](cpaths, self.device)}\n",
    "        with torch.no_grad():\n",
    "            embeddings = self.model(inputs)\n",
    "        return embeddings[ctype]\n",
    "        \n",
    "    def run_tensor(self, ctype, image_tensor):\n",
    "        \"\"\" ctype: str\n",
    "        \"\"\"\n",
    "        inputs = {ctype: image_tensor}\n",
    "        with torch.no_grad():\n",
    "            embeddings = self.model(inputs)\n",
    "        return embeddings[ctype]\n",
    "        \n",
    "device = 'cpu'\n",
    "binder = Binder(pth_path=\"/home/eugene/models/converted/imagebind/imagebind_huge.pth\", device=device)"
   ]
  },
  {
   "cell_type": "markdown",
   "id": "efd84bd1-f3be-4f5e-808c-11c61559732d",
   "metadata": {},
   "source": [
    "### 2. Define Diffusion model"
   ]
  },
  {
   "cell_type": "code",
   "execution_count": 17,
   "id": "616e4b18-91ae-4b90-8f30-d41a9711030a",
   "metadata": {},
   "outputs": [
    {
     "name": "stdout",
     "output_type": "stream",
     "text": [
      "ImageEmbeddingConditionedLatentDiffusion: Running in v-prediction mode\n",
      "Setting up MemoryEfficientCrossAttention. Query dim is 320, context_dim is None and using 5 heads.\n",
      "Setting up MemoryEfficientCrossAttention. Query dim is 320, context_dim is 1024 and using 5 heads.\n",
      "Setting up MemoryEfficientCrossAttention. Query dim is 320, context_dim is None and using 5 heads.\n",
      "Setting up MemoryEfficientCrossAttention. Query dim is 320, context_dim is 1024 and using 5 heads.\n",
      "Setting up MemoryEfficientCrossAttention. Query dim is 640, context_dim is None and using 10 heads.\n",
      "Setting up MemoryEfficientCrossAttention. Query dim is 640, context_dim is 1024 and using 10 heads.\n",
      "Setting up MemoryEfficientCrossAttention. Query dim is 640, context_dim is None and using 10 heads.\n",
      "Setting up MemoryEfficientCrossAttention. Query dim is 640, context_dim is 1024 and using 10 heads.\n",
      "Setting up MemoryEfficientCrossAttention. Query dim is 1280, context_dim is None and using 20 heads.\n",
      "Setting up MemoryEfficientCrossAttention. Query dim is 1280, context_dim is 1024 and using 20 heads.\n",
      "Setting up MemoryEfficientCrossAttention. Query dim is 1280, context_dim is None and using 20 heads.\n",
      "Setting up MemoryEfficientCrossAttention. Query dim is 1280, context_dim is 1024 and using 20 heads.\n",
      "Setting up MemoryEfficientCrossAttention. Query dim is 1280, context_dim is None and using 20 heads.\n",
      "Setting up MemoryEfficientCrossAttention. Query dim is 1280, context_dim is 1024 and using 20 heads.\n",
      "Setting up MemoryEfficientCrossAttention. Query dim is 1280, context_dim is None and using 20 heads.\n",
      "Setting up MemoryEfficientCrossAttention. Query dim is 1280, context_dim is 1024 and using 20 heads.\n",
      "Setting up MemoryEfficientCrossAttention. Query dim is 1280, context_dim is None and using 20 heads.\n",
      "Setting up MemoryEfficientCrossAttention. Query dim is 1280, context_dim is 1024 and using 20 heads.\n",
      "Setting up MemoryEfficientCrossAttention. Query dim is 1280, context_dim is None and using 20 heads.\n",
      "Setting up MemoryEfficientCrossAttention. Query dim is 1280, context_dim is 1024 and using 20 heads.\n",
      "Setting up MemoryEfficientCrossAttention. Query dim is 640, context_dim is None and using 10 heads.\n",
      "Setting up MemoryEfficientCrossAttention. Query dim is 640, context_dim is 1024 and using 10 heads.\n",
      "Setting up MemoryEfficientCrossAttention. Query dim is 640, context_dim is None and using 10 heads.\n",
      "Setting up MemoryEfficientCrossAttention. Query dim is 640, context_dim is 1024 and using 10 heads.\n",
      "Setting up MemoryEfficientCrossAttention. Query dim is 640, context_dim is None and using 10 heads.\n",
      "Setting up MemoryEfficientCrossAttention. Query dim is 640, context_dim is 1024 and using 10 heads.\n",
      "Setting up MemoryEfficientCrossAttention. Query dim is 320, context_dim is None and using 5 heads.\n",
      "Setting up MemoryEfficientCrossAttention. Query dim is 320, context_dim is 1024 and using 5 heads.\n",
      "Setting up MemoryEfficientCrossAttention. Query dim is 320, context_dim is None and using 5 heads.\n",
      "Setting up MemoryEfficientCrossAttention. Query dim is 320, context_dim is 1024 and using 5 heads.\n",
      "Setting up MemoryEfficientCrossAttention. Query dim is 320, context_dim is None and using 5 heads.\n",
      "Setting up MemoryEfficientCrossAttention. Query dim is 320, context_dim is 1024 and using 5 heads.\n",
      "DiffusionWrapper has 870.17 M params.\n",
      "making attention of type 'vanilla-xformers' with 512 in_channels\n",
      "building MemoryEfficientAttnBlock with 512 in_channels...\n",
      "Working with z of shape (1, 4, 32, 32) = 4096 dimensions.\n",
      "making attention of type 'vanilla-xformers' with 512 in_channels\n",
      "building MemoryEfficientAttnBlock with 512 in_channels...\n"
     ]
    }
   ],
   "source": [
    "# options\n",
    "opt = EasyDict(config = './configs/stable-diffusion/v2-1-stable-unclip-h-bind-inference.yaml',\n",
    "               device = 'cuda:0',\n",
    "               ckpt = './checkpoints/stable-diffusion-2-1-unclip/sd21-unclip-h.ckpt',\n",
    "               C = 4,\n",
    "               H = 768,\n",
    "               W = 768,\n",
    "               f = 8,\n",
    "               steps = 50, \n",
    "               n_samples = 1,\n",
    "               scale = 20,\n",
    "               ddim_eta = 0,\n",
    "                torch_dtype=torch.float16\n",
    "               )\n",
    "\n",
    "config = OmegaConf.load(f\"{opt.config}\")\n",
    "shape = [opt.C, opt.H // opt.f, opt.W // opt.f]\n",
    "batch_size = opt.n_samples\n",
    "\n",
    "# prepare diffusion model\n",
    "model = ImageEmbeddingConditionedLatentDiffusion(**config.model['params'])\n",
    "pl_sd = torch.load(opt.ckpt, map_location=\"cpu\")\n",
    "sd = pl_sd[\"state_dict\"]\n",
    "model.load_state_dict(sd, strict=False)\n",
    "model= model.half()\n",
    "model.to(opt.device)\n",
    "model.eval()\n",
    "\n",
    "sampler = DDIMSampler(model, device=opt.device)"
   ]
  },
  {
   "cell_type": "code",
   "execution_count": 18,
   "id": "f0fac8a0-b72e-4a61-b956-be9c2ff84a70",
   "metadata": {},
   "outputs": [],
   "source": [
    "def load_img(path):\n",
    "    image = Image.open(path).convert(\"RGB\")\n",
    "    w, h = image.size\n",
    "    print(f\"loaded input image of size ({w}, {h}) from {path}\")\n",
    "    w, h = map(lambda x: x - x % 64, (w, h))  # resize to integer multiple of 64\n",
    "    image = image.resize((w, h), resample=Image.LANCZOS)\n",
    "    image = np.array(image).astype(np.float32) / 255.0\n",
    "    image = image[None].transpose(0, 3, 1, 2)\n",
    "    image = torch.from_numpy(image)\n",
    "    return 2. * image - 1."
   ]
  },
  {
   "cell_type": "markdown",
   "id": "e22b4cd2-b709-4a6f-b684-f5e65277a30a",
   "metadata": {},
   "source": [
    "### 3. Image-conditioned image generation"
   ]
  },
  {
   "cell_type": "code",
   "execution_count": 19,
   "id": "91a2e792-da19-417e-8793-8071af3ed288",
   "metadata": {},
   "outputs": [],
   "source": [
    "IMG_MEAN=(0.48145466, 0.4578275, 0.40821073)\n",
    "IMG_STD=(0.26862954, 0.26130258, 0.27577711)\n",
    "\n",
    "def unnorm(tensor, mean=IMG_MEAN, std=IMG_STD):\n",
    "    m = torch.tensor(IMG_MEAN)[None, :, None, None].to(device)\n",
    "    s = torch.tensor(IMG_STD)[None, :, None, None].to(device)\n",
    "    return (tensor.clone().to(device) * s) + m\n",
    "\n",
    "def norm(tensor, mean=IMG_MEAN, std=IMG_STD):\n",
    "    m = torch.tensor(IMG_MEAN)[None, :, None, None].to(device)\n",
    "    s = torch.tensor(IMG_STD)[None, :, None, None].to(device)\n",
    "    return (tensor.clone().to(device) - m) / s\n",
    "    \n",
    "transform = transforms.ToPILImage()"
   ]
  },
  {
   "cell_type": "code",
   "execution_count": 20,
   "id": "f0831f9e-fd43-408b-8063-a9e0bcb489b8",
   "metadata": {},
   "outputs": [],
   "source": [
    "def generate_image_iamge(embeddings):\n",
    "    prompts = ['colorful, DSLR quality, clear, vivid'] * batch_size    # you may add extra descriptions you like here\n",
    "    # c_adm = binder.run(ctype='audio', cpaths=['assets/bird_audio.wav'])\n",
    "    c_adm = embeddings / embeddings.norm() * 20   # a norm of 20 typically gives better result \n",
    "    c_adm = torch.cat([c_adm] * batch_size, dim=0)\n",
    "    c_adm = c_adm.half().to('cuda:0')\n",
    "    n_prompt = 'watermark, longbody, lowres, bad anatomy, bad hands, missing fingers, extra digit, fewer digits, cropped, worst quality, low quality'\n",
    "\n",
    "    with torch.no_grad(), torch.autocast('cuda'):\n",
    "        c_adm, noise_level_emb = model.noise_augmentor(c_adm, noise_level=torch.zeros(batch_size).long().to(c_adm.device))\n",
    "        c_adm = torch.cat((c_adm, noise_level_emb), 1)\n",
    "    \n",
    "        uc = model.get_learned_conditioning(batch_size * [n_prompt])    # negative prompts\n",
    "        uc = {\"c_crossattn\": [uc], \"c_adm\": torch.zeros_like(c_adm)}\n",
    "        c = {\"c_crossattn\": [model.get_learned_conditioning(prompts)], \"c_adm\": c_adm}\n",
    "        \n",
    "        samples, _ = sampler.sample(S=opt.steps,\n",
    "                                    conditioning=c,\n",
    "                                    batch_size=batch_size,\n",
    "                                    shape=shape,\n",
    "                                    verbose=False,\n",
    "                                    unconditional_guidance_scale=opt.scale,\n",
    "                                    unconditional_conditioning=uc,\n",
    "                                    eta=opt.ddim_eta,\n",
    "                                    x_T=None)\n",
    "    \n",
    "    x_samples = model.decode_first_stage(samples.half())\n",
    "    x_samples = torch.clamp((x_samples + 1.0) / 2.0, min=0.0, max=1.0)\n",
    "    # plt.imshow(x_samples[0].permute(1,2,0).cpu().float().numpy())\n",
    "    return x_samples"
   ]
  },
  {
   "cell_type": "code",
   "execution_count": 21,
   "id": "adb9aad6-155a-4095-b3f9-5f15aa5237d9",
   "metadata": {},
   "outputs": [
    {
     "data": {
      "text/plain": [
       "0"
      ]
     },
     "execution_count": 21,
     "metadata": {},
     "output_type": "execute_result"
    }
   ],
   "source": [
    "image_model = imagebind_model.imagebind_huge(pretrained=True)\n",
    "image_model.to('cpu')\n",
    "image_model.eval()\n",
    "0"
   ]
  },
  {
   "cell_type": "code",
   "execution_count": 30,
   "id": "60f7b09b-753a-47c8-bed9-45a782cc544c",
   "metadata": {},
   "outputs": [],
   "source": [
    "input_dir=\"/home/eugene/BindDiffusion/selected_label_experiment/perturbed_image_jpg\"\n",
    "x_inits = np.load('/home/rishi/code/adversarial_collisions/outputs/imagenet/16_tingwei/x_advs.npy')\n",
    "x_inits = torch.tensor(x_inits)\n",
    "for i, img in enumerate(x_inits):\n",
    "    save_image(torch.squeeze(unnorm(img)), os.path.join(input_dir, f'image_{i}.jpg'))"
   ]
  },
  {
   "cell_type": "code",
   "execution_count": 32,
   "id": "c2cbe9e2-dc4b-402b-ae4d-b0849de3db0d",
   "metadata": {},
   "outputs": [
    {
     "name": "stdout",
     "output_type": "stream",
     "text": [
      "0\n",
      "Data shape for DDIM sampling is (1, 4, 96, 96), eta 0\n",
      "Running DDIM Sampling with 50 timesteps\n"
     ]
    },
    {
     "name": "stderr",
     "output_type": "stream",
     "text": [
      "DDIM Sampler: 100%|██████████████████████████████████████████████████████████████████████| 50/50 [00:08<00:00,  6.24it/s]\n"
     ]
    },
    {
     "name": "stdout",
     "output_type": "stream",
     "text": [
      "1\n",
      "Data shape for DDIM sampling is (1, 4, 96, 96), eta 0\n",
      "Running DDIM Sampling with 50 timesteps\n"
     ]
    },
    {
     "name": "stderr",
     "output_type": "stream",
     "text": [
      "DDIM Sampler: 100%|██████████████████████████████████████████████████████████████████████| 50/50 [00:08<00:00,  6.21it/s]\n"
     ]
    },
    {
     "name": "stdout",
     "output_type": "stream",
     "text": [
      "2\n",
      "Data shape for DDIM sampling is (1, 4, 96, 96), eta 0\n",
      "Running DDIM Sampling with 50 timesteps\n"
     ]
    },
    {
     "name": "stderr",
     "output_type": "stream",
     "text": [
      "DDIM Sampler: 100%|██████████████████████████████████████████████████████████████████████| 50/50 [00:08<00:00,  6.16it/s]\n"
     ]
    },
    {
     "name": "stdout",
     "output_type": "stream",
     "text": [
      "3\n",
      "Data shape for DDIM sampling is (1, 4, 96, 96), eta 0\n",
      "Running DDIM Sampling with 50 timesteps\n"
     ]
    },
    {
     "name": "stderr",
     "output_type": "stream",
     "text": [
      "DDIM Sampler: 100%|██████████████████████████████████████████████████████████████████████| 50/50 [00:08<00:00,  6.11it/s]\n"
     ]
    },
    {
     "name": "stdout",
     "output_type": "stream",
     "text": [
      "4\n",
      "Data shape for DDIM sampling is (1, 4, 96, 96), eta 0\n",
      "Running DDIM Sampling with 50 timesteps\n"
     ]
    },
    {
     "name": "stderr",
     "output_type": "stream",
     "text": [
      "DDIM Sampler: 100%|██████████████████████████████████████████████████████████████████████| 50/50 [00:08<00:00,  6.09it/s]\n"
     ]
    },
    {
     "name": "stdout",
     "output_type": "stream",
     "text": [
      "5\n",
      "Data shape for DDIM sampling is (1, 4, 96, 96), eta 0\n",
      "Running DDIM Sampling with 50 timesteps\n"
     ]
    },
    {
     "name": "stderr",
     "output_type": "stream",
     "text": [
      "DDIM Sampler: 100%|██████████████████████████████████████████████████████████████████████| 50/50 [00:08<00:00,  6.07it/s]\n"
     ]
    },
    {
     "name": "stdout",
     "output_type": "stream",
     "text": [
      "6\n",
      "Data shape for DDIM sampling is (1, 4, 96, 96), eta 0\n",
      "Running DDIM Sampling with 50 timesteps\n"
     ]
    },
    {
     "name": "stderr",
     "output_type": "stream",
     "text": [
      "DDIM Sampler: 100%|██████████████████████████████████████████████████████████████████████| 50/50 [00:08<00:00,  6.05it/s]\n"
     ]
    },
    {
     "name": "stdout",
     "output_type": "stream",
     "text": [
      "7\n",
      "Data shape for DDIM sampling is (1, 4, 96, 96), eta 0\n",
      "Running DDIM Sampling with 50 timesteps\n"
     ]
    },
    {
     "name": "stderr",
     "output_type": "stream",
     "text": [
      "DDIM Sampler: 100%|██████████████████████████████████████████████████████████████████████| 50/50 [00:08<00:00,  6.04it/s]\n"
     ]
    },
    {
     "name": "stdout",
     "output_type": "stream",
     "text": [
      "8\n",
      "Data shape for DDIM sampling is (1, 4, 96, 96), eta 0\n",
      "Running DDIM Sampling with 50 timesteps\n"
     ]
    },
    {
     "name": "stderr",
     "output_type": "stream",
     "text": [
      "DDIM Sampler: 100%|██████████████████████████████████████████████████████████████████████| 50/50 [00:08<00:00,  6.04it/s]\n"
     ]
    },
    {
     "name": "stdout",
     "output_type": "stream",
     "text": [
      "9\n",
      "Data shape for DDIM sampling is (1, 4, 96, 96), eta 0\n",
      "Running DDIM Sampling with 50 timesteps\n"
     ]
    },
    {
     "name": "stderr",
     "output_type": "stream",
     "text": [
      "DDIM Sampler: 100%|██████████████████████████████████████████████████████████████████████| 50/50 [00:08<00:00,  6.04it/s]\n"
     ]
    },
    {
     "name": "stdout",
     "output_type": "stream",
     "text": [
      "10\n",
      "Data shape for DDIM sampling is (1, 4, 96, 96), eta 0\n",
      "Running DDIM Sampling with 50 timesteps\n"
     ]
    },
    {
     "name": "stderr",
     "output_type": "stream",
     "text": [
      "DDIM Sampler: 100%|██████████████████████████████████████████████████████████████████████| 50/50 [00:08<00:00,  6.04it/s]\n"
     ]
    },
    {
     "name": "stdout",
     "output_type": "stream",
     "text": [
      "11\n",
      "Data shape for DDIM sampling is (1, 4, 96, 96), eta 0\n",
      "Running DDIM Sampling with 50 timesteps\n"
     ]
    },
    {
     "name": "stderr",
     "output_type": "stream",
     "text": [
      "DDIM Sampler: 100%|██████████████████████████████████████████████████████████████████████| 50/50 [00:08<00:00,  6.04it/s]\n"
     ]
    },
    {
     "name": "stdout",
     "output_type": "stream",
     "text": [
      "12\n",
      "Data shape for DDIM sampling is (1, 4, 96, 96), eta 0\n",
      "Running DDIM Sampling with 50 timesteps\n"
     ]
    },
    {
     "name": "stderr",
     "output_type": "stream",
     "text": [
      "DDIM Sampler: 100%|██████████████████████████████████████████████████████████████████████| 50/50 [00:08<00:00,  6.04it/s]\n"
     ]
    },
    {
     "name": "stdout",
     "output_type": "stream",
     "text": [
      "13\n",
      "Data shape for DDIM sampling is (1, 4, 96, 96), eta 0\n",
      "Running DDIM Sampling with 50 timesteps\n"
     ]
    },
    {
     "name": "stderr",
     "output_type": "stream",
     "text": [
      "DDIM Sampler: 100%|██████████████████████████████████████████████████████████████████████| 50/50 [00:08<00:00,  6.04it/s]\n"
     ]
    },
    {
     "name": "stdout",
     "output_type": "stream",
     "text": [
      "14\n",
      "Data shape for DDIM sampling is (1, 4, 96, 96), eta 0\n",
      "Running DDIM Sampling with 50 timesteps\n"
     ]
    },
    {
     "name": "stderr",
     "output_type": "stream",
     "text": [
      "DDIM Sampler: 100%|██████████████████████████████████████████████████████████████████████| 50/50 [00:08<00:00,  6.04it/s]\n"
     ]
    },
    {
     "name": "stdout",
     "output_type": "stream",
     "text": [
      "15\n",
      "Data shape for DDIM sampling is (1, 4, 96, 96), eta 0\n",
      "Running DDIM Sampling with 50 timesteps\n"
     ]
    },
    {
     "name": "stderr",
     "output_type": "stream",
     "text": [
      "DDIM Sampler: 100%|██████████████████████████████████████████████████████████████████████| 50/50 [00:08<00:00,  6.04it/s]\n"
     ]
    },
    {
     "name": "stdout",
     "output_type": "stream",
     "text": [
      "16\n",
      "Data shape for DDIM sampling is (1, 4, 96, 96), eta 0\n",
      "Running DDIM Sampling with 50 timesteps\n"
     ]
    },
    {
     "name": "stderr",
     "output_type": "stream",
     "text": [
      "DDIM Sampler: 100%|██████████████████████████████████████████████████████████████████████| 50/50 [00:08<00:00,  6.04it/s]\n"
     ]
    },
    {
     "name": "stdout",
     "output_type": "stream",
     "text": [
      "17\n",
      "Data shape for DDIM sampling is (1, 4, 96, 96), eta 0\n",
      "Running DDIM Sampling with 50 timesteps\n"
     ]
    },
    {
     "name": "stderr",
     "output_type": "stream",
     "text": [
      "DDIM Sampler: 100%|██████████████████████████████████████████████████████████████████████| 50/50 [00:08<00:00,  6.04it/s]\n"
     ]
    },
    {
     "name": "stdout",
     "output_type": "stream",
     "text": [
      "18\n",
      "Data shape for DDIM sampling is (1, 4, 96, 96), eta 0\n",
      "Running DDIM Sampling with 50 timesteps\n"
     ]
    },
    {
     "name": "stderr",
     "output_type": "stream",
     "text": [
      "DDIM Sampler: 100%|██████████████████████████████████████████████████████████████████████| 50/50 [00:08<00:00,  6.03it/s]\n"
     ]
    },
    {
     "name": "stdout",
     "output_type": "stream",
     "text": [
      "19\n",
      "Data shape for DDIM sampling is (1, 4, 96, 96), eta 0\n",
      "Running DDIM Sampling with 50 timesteps\n"
     ]
    },
    {
     "name": "stderr",
     "output_type": "stream",
     "text": [
      "DDIM Sampler: 100%|██████████████████████████████████████████████████████████████████████| 50/50 [00:08<00:00,  6.03it/s]\n"
     ]
    },
    {
     "name": "stdout",
     "output_type": "stream",
     "text": [
      "20\n",
      "Data shape for DDIM sampling is (1, 4, 96, 96), eta 0\n",
      "Running DDIM Sampling with 50 timesteps\n"
     ]
    },
    {
     "name": "stderr",
     "output_type": "stream",
     "text": [
      "DDIM Sampler: 100%|██████████████████████████████████████████████████████████████████████| 50/50 [00:08<00:00,  6.03it/s]\n"
     ]
    },
    {
     "name": "stdout",
     "output_type": "stream",
     "text": [
      "21\n",
      "Data shape for DDIM sampling is (1, 4, 96, 96), eta 0\n",
      "Running DDIM Sampling with 50 timesteps\n"
     ]
    },
    {
     "name": "stderr",
     "output_type": "stream",
     "text": [
      "DDIM Sampler: 100%|██████████████████████████████████████████████████████████████████████| 50/50 [00:08<00:00,  6.04it/s]\n"
     ]
    },
    {
     "name": "stdout",
     "output_type": "stream",
     "text": [
      "22\n",
      "Data shape for DDIM sampling is (1, 4, 96, 96), eta 0\n",
      "Running DDIM Sampling with 50 timesteps\n"
     ]
    },
    {
     "name": "stderr",
     "output_type": "stream",
     "text": [
      "DDIM Sampler: 100%|██████████████████████████████████████████████████████████████████████| 50/50 [00:08<00:00,  6.03it/s]\n"
     ]
    },
    {
     "name": "stdout",
     "output_type": "stream",
     "text": [
      "23\n",
      "Data shape for DDIM sampling is (1, 4, 96, 96), eta 0\n",
      "Running DDIM Sampling with 50 timesteps\n"
     ]
    },
    {
     "name": "stderr",
     "output_type": "stream",
     "text": [
      "DDIM Sampler: 100%|██████████████████████████████████████████████████████████████████████| 50/50 [00:08<00:00,  6.03it/s]\n"
     ]
    },
    {
     "name": "stdout",
     "output_type": "stream",
     "text": [
      "24\n",
      "Data shape for DDIM sampling is (1, 4, 96, 96), eta 0\n",
      "Running DDIM Sampling with 50 timesteps\n"
     ]
    },
    {
     "name": "stderr",
     "output_type": "stream",
     "text": [
      "DDIM Sampler: 100%|██████████████████████████████████████████████████████████████████████| 50/50 [00:08<00:00,  6.03it/s]\n"
     ]
    },
    {
     "name": "stdout",
     "output_type": "stream",
     "text": [
      "25\n",
      "Data shape for DDIM sampling is (1, 4, 96, 96), eta 0\n",
      "Running DDIM Sampling with 50 timesteps\n"
     ]
    },
    {
     "name": "stderr",
     "output_type": "stream",
     "text": [
      "DDIM Sampler: 100%|██████████████████████████████████████████████████████████████████████| 50/50 [00:08<00:00,  6.03it/s]\n"
     ]
    },
    {
     "name": "stdout",
     "output_type": "stream",
     "text": [
      "26\n",
      "Data shape for DDIM sampling is (1, 4, 96, 96), eta 0\n",
      "Running DDIM Sampling with 50 timesteps\n"
     ]
    },
    {
     "name": "stderr",
     "output_type": "stream",
     "text": [
      "DDIM Sampler: 100%|██████████████████████████████████████████████████████████████████████| 50/50 [00:08<00:00,  6.03it/s]\n"
     ]
    },
    {
     "name": "stdout",
     "output_type": "stream",
     "text": [
      "27\n",
      "Data shape for DDIM sampling is (1, 4, 96, 96), eta 0\n",
      "Running DDIM Sampling with 50 timesteps\n"
     ]
    },
    {
     "name": "stderr",
     "output_type": "stream",
     "text": [
      "DDIM Sampler: 100%|██████████████████████████████████████████████████████████████████████| 50/50 [00:08<00:00,  6.03it/s]\n"
     ]
    },
    {
     "name": "stdout",
     "output_type": "stream",
     "text": [
      "28\n",
      "Data shape for DDIM sampling is (1, 4, 96, 96), eta 0\n",
      "Running DDIM Sampling with 50 timesteps\n"
     ]
    },
    {
     "name": "stderr",
     "output_type": "stream",
     "text": [
      "DDIM Sampler: 100%|██████████████████████████████████████████████████████████████████████| 50/50 [00:08<00:00,  6.04it/s]\n"
     ]
    },
    {
     "name": "stdout",
     "output_type": "stream",
     "text": [
      "29\n",
      "Data shape for DDIM sampling is (1, 4, 96, 96), eta 0\n",
      "Running DDIM Sampling with 50 timesteps\n"
     ]
    },
    {
     "name": "stderr",
     "output_type": "stream",
     "text": [
      "DDIM Sampler: 100%|██████████████████████████████████████████████████████████████████████| 50/50 [00:08<00:00,  6.03it/s]\n"
     ]
    },
    {
     "name": "stdout",
     "output_type": "stream",
     "text": [
      "30\n",
      "Data shape for DDIM sampling is (1, 4, 96, 96), eta 0\n",
      "Running DDIM Sampling with 50 timesteps\n"
     ]
    },
    {
     "name": "stderr",
     "output_type": "stream",
     "text": [
      "DDIM Sampler: 100%|██████████████████████████████████████████████████████████████████████| 50/50 [00:08<00:00,  6.03it/s]\n"
     ]
    },
    {
     "name": "stdout",
     "output_type": "stream",
     "text": [
      "31\n",
      "Data shape for DDIM sampling is (1, 4, 96, 96), eta 0\n",
      "Running DDIM Sampling with 50 timesteps\n"
     ]
    },
    {
     "name": "stderr",
     "output_type": "stream",
     "text": [
      "DDIM Sampler: 100%|██████████████████████████████████████████████████████████████████████| 50/50 [00:08<00:00,  6.03it/s]\n"
     ]
    },
    {
     "name": "stdout",
     "output_type": "stream",
     "text": [
      "32\n",
      "Data shape for DDIM sampling is (1, 4, 96, 96), eta 0\n",
      "Running DDIM Sampling with 50 timesteps\n"
     ]
    },
    {
     "name": "stderr",
     "output_type": "stream",
     "text": [
      "DDIM Sampler: 100%|██████████████████████████████████████████████████████████████████████| 50/50 [00:08<00:00,  6.03it/s]\n"
     ]
    },
    {
     "name": "stdout",
     "output_type": "stream",
     "text": [
      "33\n",
      "Data shape for DDIM sampling is (1, 4, 96, 96), eta 0\n",
      "Running DDIM Sampling with 50 timesteps\n"
     ]
    },
    {
     "name": "stderr",
     "output_type": "stream",
     "text": [
      "DDIM Sampler: 100%|██████████████████████████████████████████████████████████████████████| 50/50 [00:08<00:00,  6.03it/s]\n"
     ]
    },
    {
     "name": "stdout",
     "output_type": "stream",
     "text": [
      "34\n",
      "Data shape for DDIM sampling is (1, 4, 96, 96), eta 0\n",
      "Running DDIM Sampling with 50 timesteps\n"
     ]
    },
    {
     "name": "stderr",
     "output_type": "stream",
     "text": [
      "DDIM Sampler: 100%|██████████████████████████████████████████████████████████████████████| 50/50 [00:08<00:00,  6.03it/s]\n"
     ]
    },
    {
     "name": "stdout",
     "output_type": "stream",
     "text": [
      "35\n",
      "Data shape for DDIM sampling is (1, 4, 96, 96), eta 0\n",
      "Running DDIM Sampling with 50 timesteps\n"
     ]
    },
    {
     "name": "stderr",
     "output_type": "stream",
     "text": [
      "DDIM Sampler: 100%|██████████████████████████████████████████████████████████████████████| 50/50 [00:08<00:00,  6.03it/s]\n"
     ]
    },
    {
     "name": "stdout",
     "output_type": "stream",
     "text": [
      "36\n",
      "Data shape for DDIM sampling is (1, 4, 96, 96), eta 0\n",
      "Running DDIM Sampling with 50 timesteps\n"
     ]
    },
    {
     "name": "stderr",
     "output_type": "stream",
     "text": [
      "DDIM Sampler: 100%|██████████████████████████████████████████████████████████████████████| 50/50 [00:08<00:00,  6.03it/s]\n"
     ]
    },
    {
     "name": "stdout",
     "output_type": "stream",
     "text": [
      "37\n",
      "Data shape for DDIM sampling is (1, 4, 96, 96), eta 0\n",
      "Running DDIM Sampling with 50 timesteps\n"
     ]
    },
    {
     "name": "stderr",
     "output_type": "stream",
     "text": [
      "DDIM Sampler: 100%|██████████████████████████████████████████████████████████████████████| 50/50 [00:08<00:00,  6.03it/s]\n"
     ]
    },
    {
     "name": "stdout",
     "output_type": "stream",
     "text": [
      "38\n",
      "Data shape for DDIM sampling is (1, 4, 96, 96), eta 0\n",
      "Running DDIM Sampling with 50 timesteps\n"
     ]
    },
    {
     "name": "stderr",
     "output_type": "stream",
     "text": [
      "DDIM Sampler: 100%|██████████████████████████████████████████████████████████████████████| 50/50 [00:08<00:00,  6.03it/s]\n"
     ]
    },
    {
     "name": "stdout",
     "output_type": "stream",
     "text": [
      "39\n",
      "Data shape for DDIM sampling is (1, 4, 96, 96), eta 0\n",
      "Running DDIM Sampling with 50 timesteps\n"
     ]
    },
    {
     "name": "stderr",
     "output_type": "stream",
     "text": [
      "DDIM Sampler: 100%|██████████████████████████████████████████████████████████████████████| 50/50 [00:08<00:00,  6.05it/s]\n"
     ]
    },
    {
     "name": "stdout",
     "output_type": "stream",
     "text": [
      "40\n",
      "Data shape for DDIM sampling is (1, 4, 96, 96), eta 0\n",
      "Running DDIM Sampling with 50 timesteps\n"
     ]
    },
    {
     "name": "stderr",
     "output_type": "stream",
     "text": [
      "DDIM Sampler: 100%|██████████████████████████████████████████████████████████████████████| 50/50 [00:08<00:00,  6.03it/s]\n"
     ]
    },
    {
     "name": "stdout",
     "output_type": "stream",
     "text": [
      "41\n",
      "Data shape for DDIM sampling is (1, 4, 96, 96), eta 0\n",
      "Running DDIM Sampling with 50 timesteps\n"
     ]
    },
    {
     "name": "stderr",
     "output_type": "stream",
     "text": [
      "DDIM Sampler: 100%|██████████████████████████████████████████████████████████████████████| 50/50 [00:08<00:00,  6.03it/s]\n"
     ]
    },
    {
     "name": "stdout",
     "output_type": "stream",
     "text": [
      "42\n",
      "Data shape for DDIM sampling is (1, 4, 96, 96), eta 0\n",
      "Running DDIM Sampling with 50 timesteps\n"
     ]
    },
    {
     "name": "stderr",
     "output_type": "stream",
     "text": [
      "DDIM Sampler: 100%|██████████████████████████████████████████████████████████████████████| 50/50 [00:08<00:00,  6.03it/s]\n"
     ]
    },
    {
     "name": "stdout",
     "output_type": "stream",
     "text": [
      "43\n",
      "Data shape for DDIM sampling is (1, 4, 96, 96), eta 0\n",
      "Running DDIM Sampling with 50 timesteps\n"
     ]
    },
    {
     "name": "stderr",
     "output_type": "stream",
     "text": [
      "DDIM Sampler: 100%|██████████████████████████████████████████████████████████████████████| 50/50 [00:08<00:00,  6.03it/s]\n"
     ]
    },
    {
     "name": "stdout",
     "output_type": "stream",
     "text": [
      "44\n",
      "Data shape for DDIM sampling is (1, 4, 96, 96), eta 0\n",
      "Running DDIM Sampling with 50 timesteps\n"
     ]
    },
    {
     "name": "stderr",
     "output_type": "stream",
     "text": [
      "DDIM Sampler: 100%|██████████████████████████████████████████████████████████████████████| 50/50 [00:08<00:00,  6.03it/s]\n"
     ]
    },
    {
     "name": "stdout",
     "output_type": "stream",
     "text": [
      "45\n",
      "Data shape for DDIM sampling is (1, 4, 96, 96), eta 0\n",
      "Running DDIM Sampling with 50 timesteps\n"
     ]
    },
    {
     "name": "stderr",
     "output_type": "stream",
     "text": [
      "DDIM Sampler: 100%|██████████████████████████████████████████████████████████████████████| 50/50 [00:08<00:00,  6.03it/s]\n"
     ]
    },
    {
     "name": "stdout",
     "output_type": "stream",
     "text": [
      "46\n",
      "Data shape for DDIM sampling is (1, 4, 96, 96), eta 0\n",
      "Running DDIM Sampling with 50 timesteps\n"
     ]
    },
    {
     "name": "stderr",
     "output_type": "stream",
     "text": [
      "DDIM Sampler: 100%|██████████████████████████████████████████████████████████████████████| 50/50 [00:08<00:00,  6.03it/s]\n"
     ]
    },
    {
     "name": "stdout",
     "output_type": "stream",
     "text": [
      "47\n",
      "Data shape for DDIM sampling is (1, 4, 96, 96), eta 0\n",
      "Running DDIM Sampling with 50 timesteps\n"
     ]
    },
    {
     "name": "stderr",
     "output_type": "stream",
     "text": [
      "DDIM Sampler: 100%|██████████████████████████████████████████████████████████████████████| 50/50 [00:08<00:00,  6.04it/s]\n"
     ]
    },
    {
     "name": "stdout",
     "output_type": "stream",
     "text": [
      "48\n",
      "Data shape for DDIM sampling is (1, 4, 96, 96), eta 0\n",
      "Running DDIM Sampling with 50 timesteps\n"
     ]
    },
    {
     "name": "stderr",
     "output_type": "stream",
     "text": [
      "DDIM Sampler: 100%|██████████████████████████████████████████████████████████████████████| 50/50 [00:08<00:00,  6.03it/s]\n"
     ]
    },
    {
     "name": "stdout",
     "output_type": "stream",
     "text": [
      "49\n",
      "Data shape for DDIM sampling is (1, 4, 96, 96), eta 0\n",
      "Running DDIM Sampling with 50 timesteps\n"
     ]
    },
    {
     "name": "stderr",
     "output_type": "stream",
     "text": [
      "DDIM Sampler: 100%|██████████████████████████████████████████████████████████████████████| 50/50 [00:08<00:00,  6.03it/s]\n"
     ]
    },
    {
     "name": "stdout",
     "output_type": "stream",
     "text": [
      "50\n",
      "Data shape for DDIM sampling is (1, 4, 96, 96), eta 0\n",
      "Running DDIM Sampling with 50 timesteps\n"
     ]
    },
    {
     "name": "stderr",
     "output_type": "stream",
     "text": [
      "DDIM Sampler: 100%|██████████████████████████████████████████████████████████████████████| 50/50 [00:08<00:00,  6.03it/s]\n"
     ]
    },
    {
     "name": "stdout",
     "output_type": "stream",
     "text": [
      "51\n",
      "Data shape for DDIM sampling is (1, 4, 96, 96), eta 0\n",
      "Running DDIM Sampling with 50 timesteps\n"
     ]
    },
    {
     "name": "stderr",
     "output_type": "stream",
     "text": [
      "DDIM Sampler: 100%|██████████████████████████████████████████████████████████████████████| 50/50 [00:08<00:00,  6.03it/s]\n"
     ]
    },
    {
     "name": "stdout",
     "output_type": "stream",
     "text": [
      "52\n",
      "Data shape for DDIM sampling is (1, 4, 96, 96), eta 0\n",
      "Running DDIM Sampling with 50 timesteps\n"
     ]
    },
    {
     "name": "stderr",
     "output_type": "stream",
     "text": [
      "DDIM Sampler: 100%|██████████████████████████████████████████████████████████████████████| 50/50 [00:08<00:00,  6.03it/s]\n"
     ]
    },
    {
     "name": "stdout",
     "output_type": "stream",
     "text": [
      "53\n",
      "Data shape for DDIM sampling is (1, 4, 96, 96), eta 0\n",
      "Running DDIM Sampling with 50 timesteps\n"
     ]
    },
    {
     "name": "stderr",
     "output_type": "stream",
     "text": [
      "DDIM Sampler: 100%|██████████████████████████████████████████████████████████████████████| 50/50 [00:08<00:00,  6.04it/s]\n"
     ]
    },
    {
     "name": "stdout",
     "output_type": "stream",
     "text": [
      "54\n",
      "Data shape for DDIM sampling is (1, 4, 96, 96), eta 0\n",
      "Running DDIM Sampling with 50 timesteps\n"
     ]
    },
    {
     "name": "stderr",
     "output_type": "stream",
     "text": [
      "DDIM Sampler: 100%|██████████████████████████████████████████████████████████████████████| 50/50 [00:08<00:00,  6.03it/s]\n"
     ]
    },
    {
     "name": "stdout",
     "output_type": "stream",
     "text": [
      "55\n",
      "Data shape for DDIM sampling is (1, 4, 96, 96), eta 0\n",
      "Running DDIM Sampling with 50 timesteps\n"
     ]
    },
    {
     "name": "stderr",
     "output_type": "stream",
     "text": [
      "DDIM Sampler: 100%|██████████████████████████████████████████████████████████████████████| 50/50 [00:08<00:00,  6.04it/s]\n"
     ]
    },
    {
     "name": "stdout",
     "output_type": "stream",
     "text": [
      "56\n",
      "Data shape for DDIM sampling is (1, 4, 96, 96), eta 0\n",
      "Running DDIM Sampling with 50 timesteps\n"
     ]
    },
    {
     "name": "stderr",
     "output_type": "stream",
     "text": [
      "DDIM Sampler: 100%|██████████████████████████████████████████████████████████████████████| 50/50 [00:08<00:00,  6.03it/s]\n"
     ]
    },
    {
     "name": "stdout",
     "output_type": "stream",
     "text": [
      "57\n",
      "Data shape for DDIM sampling is (1, 4, 96, 96), eta 0\n",
      "Running DDIM Sampling with 50 timesteps\n"
     ]
    },
    {
     "name": "stderr",
     "output_type": "stream",
     "text": [
      "DDIM Sampler: 100%|██████████████████████████████████████████████████████████████████████| 50/50 [00:08<00:00,  6.03it/s]\n"
     ]
    },
    {
     "name": "stdout",
     "output_type": "stream",
     "text": [
      "58\n",
      "Data shape for DDIM sampling is (1, 4, 96, 96), eta 0\n",
      "Running DDIM Sampling with 50 timesteps\n"
     ]
    },
    {
     "name": "stderr",
     "output_type": "stream",
     "text": [
      "DDIM Sampler: 100%|██████████████████████████████████████████████████████████████████████| 50/50 [00:08<00:00,  6.04it/s]\n"
     ]
    },
    {
     "name": "stdout",
     "output_type": "stream",
     "text": [
      "59\n",
      "Data shape for DDIM sampling is (1, 4, 96, 96), eta 0\n",
      "Running DDIM Sampling with 50 timesteps\n"
     ]
    },
    {
     "name": "stderr",
     "output_type": "stream",
     "text": [
      "DDIM Sampler: 100%|██████████████████████████████████████████████████████████████████████| 50/50 [00:08<00:00,  6.03it/s]\n"
     ]
    },
    {
     "name": "stdout",
     "output_type": "stream",
     "text": [
      "60\n",
      "Data shape for DDIM sampling is (1, 4, 96, 96), eta 0\n",
      "Running DDIM Sampling with 50 timesteps\n"
     ]
    },
    {
     "name": "stderr",
     "output_type": "stream",
     "text": [
      "DDIM Sampler: 100%|██████████████████████████████████████████████████████████████████████| 50/50 [00:08<00:00,  6.04it/s]\n"
     ]
    },
    {
     "name": "stdout",
     "output_type": "stream",
     "text": [
      "61\n",
      "Data shape for DDIM sampling is (1, 4, 96, 96), eta 0\n",
      "Running DDIM Sampling with 50 timesteps\n"
     ]
    },
    {
     "name": "stderr",
     "output_type": "stream",
     "text": [
      "DDIM Sampler: 100%|██████████████████████████████████████████████████████████████████████| 50/50 [00:08<00:00,  6.04it/s]\n"
     ]
    },
    {
     "name": "stdout",
     "output_type": "stream",
     "text": [
      "62\n",
      "Data shape for DDIM sampling is (1, 4, 96, 96), eta 0\n",
      "Running DDIM Sampling with 50 timesteps\n"
     ]
    },
    {
     "name": "stderr",
     "output_type": "stream",
     "text": [
      "DDIM Sampler: 100%|██████████████████████████████████████████████████████████████████████| 50/50 [00:08<00:00,  6.03it/s]\n"
     ]
    },
    {
     "name": "stdout",
     "output_type": "stream",
     "text": [
      "63\n",
      "Data shape for DDIM sampling is (1, 4, 96, 96), eta 0\n",
      "Running DDIM Sampling with 50 timesteps\n"
     ]
    },
    {
     "name": "stderr",
     "output_type": "stream",
     "text": [
      "DDIM Sampler: 100%|██████████████████████████████████████████████████████████████████████| 50/50 [00:08<00:00,  6.03it/s]\n"
     ]
    },
    {
     "name": "stdout",
     "output_type": "stream",
     "text": [
      "64\n",
      "Data shape for DDIM sampling is (1, 4, 96, 96), eta 0\n",
      "Running DDIM Sampling with 50 timesteps\n"
     ]
    },
    {
     "name": "stderr",
     "output_type": "stream",
     "text": [
      "DDIM Sampler: 100%|██████████████████████████████████████████████████████████████████████| 50/50 [00:08<00:00,  6.04it/s]\n"
     ]
    },
    {
     "name": "stdout",
     "output_type": "stream",
     "text": [
      "65\n",
      "Data shape for DDIM sampling is (1, 4, 96, 96), eta 0\n",
      "Running DDIM Sampling with 50 timesteps\n"
     ]
    },
    {
     "name": "stderr",
     "output_type": "stream",
     "text": [
      "DDIM Sampler: 100%|██████████████████████████████████████████████████████████████████████| 50/50 [00:08<00:00,  6.03it/s]\n"
     ]
    },
    {
     "name": "stdout",
     "output_type": "stream",
     "text": [
      "66\n",
      "Data shape for DDIM sampling is (1, 4, 96, 96), eta 0\n",
      "Running DDIM Sampling with 50 timesteps\n"
     ]
    },
    {
     "name": "stderr",
     "output_type": "stream",
     "text": [
      "DDIM Sampler: 100%|██████████████████████████████████████████████████████████████████████| 50/50 [00:08<00:00,  6.03it/s]\n"
     ]
    },
    {
     "name": "stdout",
     "output_type": "stream",
     "text": [
      "67\n",
      "Data shape for DDIM sampling is (1, 4, 96, 96), eta 0\n",
      "Running DDIM Sampling with 50 timesteps\n"
     ]
    },
    {
     "name": "stderr",
     "output_type": "stream",
     "text": [
      "DDIM Sampler: 100%|██████████████████████████████████████████████████████████████████████| 50/50 [00:08<00:00,  6.04it/s]\n"
     ]
    },
    {
     "name": "stdout",
     "output_type": "stream",
     "text": [
      "68\n",
      "Data shape for DDIM sampling is (1, 4, 96, 96), eta 0\n",
      "Running DDIM Sampling with 50 timesteps\n"
     ]
    },
    {
     "name": "stderr",
     "output_type": "stream",
     "text": [
      "DDIM Sampler: 100%|██████████████████████████████████████████████████████████████████████| 50/50 [00:08<00:00,  6.04it/s]\n"
     ]
    },
    {
     "name": "stdout",
     "output_type": "stream",
     "text": [
      "69\n",
      "Data shape for DDIM sampling is (1, 4, 96, 96), eta 0\n",
      "Running DDIM Sampling with 50 timesteps\n"
     ]
    },
    {
     "name": "stderr",
     "output_type": "stream",
     "text": [
      "DDIM Sampler: 100%|██████████████████████████████████████████████████████████████████████| 50/50 [00:08<00:00,  6.03it/s]\n"
     ]
    },
    {
     "name": "stdout",
     "output_type": "stream",
     "text": [
      "70\n",
      "Data shape for DDIM sampling is (1, 4, 96, 96), eta 0\n",
      "Running DDIM Sampling with 50 timesteps\n"
     ]
    },
    {
     "name": "stderr",
     "output_type": "stream",
     "text": [
      "DDIM Sampler: 100%|██████████████████████████████████████████████████████████████████████| 50/50 [00:08<00:00,  6.03it/s]\n"
     ]
    },
    {
     "name": "stdout",
     "output_type": "stream",
     "text": [
      "71\n",
      "Data shape for DDIM sampling is (1, 4, 96, 96), eta 0\n",
      "Running DDIM Sampling with 50 timesteps\n"
     ]
    },
    {
     "name": "stderr",
     "output_type": "stream",
     "text": [
      "DDIM Sampler: 100%|██████████████████████████████████████████████████████████████████████| 50/50 [00:08<00:00,  6.03it/s]\n"
     ]
    },
    {
     "name": "stdout",
     "output_type": "stream",
     "text": [
      "72\n",
      "Data shape for DDIM sampling is (1, 4, 96, 96), eta 0\n",
      "Running DDIM Sampling with 50 timesteps\n"
     ]
    },
    {
     "name": "stderr",
     "output_type": "stream",
     "text": [
      "DDIM Sampler: 100%|██████████████████████████████████████████████████████████████████████| 50/50 [00:08<00:00,  6.03it/s]\n"
     ]
    },
    {
     "name": "stdout",
     "output_type": "stream",
     "text": [
      "73\n",
      "Data shape for DDIM sampling is (1, 4, 96, 96), eta 0\n",
      "Running DDIM Sampling with 50 timesteps\n"
     ]
    },
    {
     "name": "stderr",
     "output_type": "stream",
     "text": [
      "DDIM Sampler: 100%|██████████████████████████████████████████████████████████████████████| 50/50 [00:08<00:00,  6.03it/s]\n"
     ]
    },
    {
     "name": "stdout",
     "output_type": "stream",
     "text": [
      "74\n",
      "Data shape for DDIM sampling is (1, 4, 96, 96), eta 0\n",
      "Running DDIM Sampling with 50 timesteps\n"
     ]
    },
    {
     "name": "stderr",
     "output_type": "stream",
     "text": [
      "DDIM Sampler: 100%|██████████████████████████████████████████████████████████████████████| 50/50 [00:08<00:00,  6.03it/s]\n"
     ]
    },
    {
     "name": "stdout",
     "output_type": "stream",
     "text": [
      "75\n",
      "Data shape for DDIM sampling is (1, 4, 96, 96), eta 0\n",
      "Running DDIM Sampling with 50 timesteps\n"
     ]
    },
    {
     "name": "stderr",
     "output_type": "stream",
     "text": [
      "DDIM Sampler: 100%|██████████████████████████████████████████████████████████████████████| 50/50 [00:08<00:00,  6.03it/s]\n"
     ]
    },
    {
     "name": "stdout",
     "output_type": "stream",
     "text": [
      "76\n",
      "Data shape for DDIM sampling is (1, 4, 96, 96), eta 0\n",
      "Running DDIM Sampling with 50 timesteps\n"
     ]
    },
    {
     "name": "stderr",
     "output_type": "stream",
     "text": [
      "DDIM Sampler: 100%|██████████████████████████████████████████████████████████████████████| 50/50 [00:08<00:00,  6.03it/s]\n"
     ]
    },
    {
     "name": "stdout",
     "output_type": "stream",
     "text": [
      "77\n",
      "Data shape for DDIM sampling is (1, 4, 96, 96), eta 0\n",
      "Running DDIM Sampling with 50 timesteps\n"
     ]
    },
    {
     "name": "stderr",
     "output_type": "stream",
     "text": [
      "DDIM Sampler: 100%|██████████████████████████████████████████████████████████████████████| 50/50 [00:08<00:00,  6.03it/s]\n"
     ]
    },
    {
     "name": "stdout",
     "output_type": "stream",
     "text": [
      "78\n",
      "Data shape for DDIM sampling is (1, 4, 96, 96), eta 0\n",
      "Running DDIM Sampling with 50 timesteps\n"
     ]
    },
    {
     "name": "stderr",
     "output_type": "stream",
     "text": [
      "DDIM Sampler: 100%|██████████████████████████████████████████████████████████████████████| 50/50 [00:08<00:00,  6.03it/s]\n"
     ]
    },
    {
     "name": "stdout",
     "output_type": "stream",
     "text": [
      "79\n",
      "Data shape for DDIM sampling is (1, 4, 96, 96), eta 0\n",
      "Running DDIM Sampling with 50 timesteps\n"
     ]
    },
    {
     "name": "stderr",
     "output_type": "stream",
     "text": [
      "DDIM Sampler: 100%|██████████████████████████████████████████████████████████████████████| 50/50 [00:08<00:00,  6.03it/s]\n"
     ]
    },
    {
     "name": "stdout",
     "output_type": "stream",
     "text": [
      "80\n",
      "Data shape for DDIM sampling is (1, 4, 96, 96), eta 0\n",
      "Running DDIM Sampling with 50 timesteps\n"
     ]
    },
    {
     "name": "stderr",
     "output_type": "stream",
     "text": [
      "DDIM Sampler: 100%|██████████████████████████████████████████████████████████████████████| 50/50 [00:08<00:00,  6.03it/s]\n"
     ]
    },
    {
     "name": "stdout",
     "output_type": "stream",
     "text": [
      "81\n",
      "Data shape for DDIM sampling is (1, 4, 96, 96), eta 0\n",
      "Running DDIM Sampling with 50 timesteps\n"
     ]
    },
    {
     "name": "stderr",
     "output_type": "stream",
     "text": [
      "DDIM Sampler: 100%|██████████████████████████████████████████████████████████████████████| 50/50 [00:08<00:00,  6.03it/s]\n"
     ]
    },
    {
     "name": "stdout",
     "output_type": "stream",
     "text": [
      "82\n",
      "Data shape for DDIM sampling is (1, 4, 96, 96), eta 0\n",
      "Running DDIM Sampling with 50 timesteps\n"
     ]
    },
    {
     "name": "stderr",
     "output_type": "stream",
     "text": [
      "DDIM Sampler: 100%|██████████████████████████████████████████████████████████████████████| 50/50 [00:08<00:00,  6.04it/s]\n"
     ]
    },
    {
     "name": "stdout",
     "output_type": "stream",
     "text": [
      "83\n",
      "Data shape for DDIM sampling is (1, 4, 96, 96), eta 0\n",
      "Running DDIM Sampling with 50 timesteps\n"
     ]
    },
    {
     "name": "stderr",
     "output_type": "stream",
     "text": [
      "DDIM Sampler: 100%|██████████████████████████████████████████████████████████████████████| 50/50 [00:08<00:00,  6.03it/s]\n"
     ]
    },
    {
     "name": "stdout",
     "output_type": "stream",
     "text": [
      "84\n",
      "Data shape for DDIM sampling is (1, 4, 96, 96), eta 0\n",
      "Running DDIM Sampling with 50 timesteps\n"
     ]
    },
    {
     "name": "stderr",
     "output_type": "stream",
     "text": [
      "DDIM Sampler: 100%|██████████████████████████████████████████████████████████████████████| 50/50 [00:08<00:00,  6.04it/s]\n"
     ]
    },
    {
     "name": "stdout",
     "output_type": "stream",
     "text": [
      "85\n",
      "Data shape for DDIM sampling is (1, 4, 96, 96), eta 0\n",
      "Running DDIM Sampling with 50 timesteps\n"
     ]
    },
    {
     "name": "stderr",
     "output_type": "stream",
     "text": [
      "DDIM Sampler: 100%|██████████████████████████████████████████████████████████████████████| 50/50 [00:08<00:00,  6.03it/s]\n"
     ]
    },
    {
     "name": "stdout",
     "output_type": "stream",
     "text": [
      "86\n",
      "Data shape for DDIM sampling is (1, 4, 96, 96), eta 0\n",
      "Running DDIM Sampling with 50 timesteps\n"
     ]
    },
    {
     "name": "stderr",
     "output_type": "stream",
     "text": [
      "DDIM Sampler: 100%|██████████████████████████████████████████████████████████████████████| 50/50 [00:08<00:00,  6.03it/s]\n"
     ]
    },
    {
     "name": "stdout",
     "output_type": "stream",
     "text": [
      "87\n",
      "Data shape for DDIM sampling is (1, 4, 96, 96), eta 0\n",
      "Running DDIM Sampling with 50 timesteps\n"
     ]
    },
    {
     "name": "stderr",
     "output_type": "stream",
     "text": [
      "DDIM Sampler: 100%|██████████████████████████████████████████████████████████████████████| 50/50 [00:08<00:00,  6.03it/s]\n"
     ]
    },
    {
     "name": "stdout",
     "output_type": "stream",
     "text": [
      "88\n",
      "Data shape for DDIM sampling is (1, 4, 96, 96), eta 0\n",
      "Running DDIM Sampling with 50 timesteps\n"
     ]
    },
    {
     "name": "stderr",
     "output_type": "stream",
     "text": [
      "DDIM Sampler: 100%|██████████████████████████████████████████████████████████████████████| 50/50 [00:08<00:00,  6.03it/s]\n"
     ]
    },
    {
     "name": "stdout",
     "output_type": "stream",
     "text": [
      "89\n",
      "Data shape for DDIM sampling is (1, 4, 96, 96), eta 0\n",
      "Running DDIM Sampling with 50 timesteps\n"
     ]
    },
    {
     "name": "stderr",
     "output_type": "stream",
     "text": [
      "DDIM Sampler: 100%|██████████████████████████████████████████████████████████████████████| 50/50 [00:08<00:00,  6.04it/s]\n"
     ]
    },
    {
     "name": "stdout",
     "output_type": "stream",
     "text": [
      "90\n",
      "Data shape for DDIM sampling is (1, 4, 96, 96), eta 0\n",
      "Running DDIM Sampling with 50 timesteps\n"
     ]
    },
    {
     "name": "stderr",
     "output_type": "stream",
     "text": [
      "DDIM Sampler: 100%|██████████████████████████████████████████████████████████████████████| 50/50 [00:08<00:00,  6.04it/s]\n"
     ]
    },
    {
     "name": "stdout",
     "output_type": "stream",
     "text": [
      "91\n",
      "Data shape for DDIM sampling is (1, 4, 96, 96), eta 0\n",
      "Running DDIM Sampling with 50 timesteps\n"
     ]
    },
    {
     "name": "stderr",
     "output_type": "stream",
     "text": [
      "DDIM Sampler: 100%|██████████████████████████████████████████████████████████████████████| 50/50 [00:08<00:00,  6.04it/s]\n"
     ]
    },
    {
     "name": "stdout",
     "output_type": "stream",
     "text": [
      "92\n",
      "Data shape for DDIM sampling is (1, 4, 96, 96), eta 0\n",
      "Running DDIM Sampling with 50 timesteps\n"
     ]
    },
    {
     "name": "stderr",
     "output_type": "stream",
     "text": [
      "DDIM Sampler: 100%|██████████████████████████████████████████████████████████████████████| 50/50 [00:08<00:00,  6.03it/s]\n"
     ]
    },
    {
     "name": "stdout",
     "output_type": "stream",
     "text": [
      "93\n",
      "Data shape for DDIM sampling is (1, 4, 96, 96), eta 0\n",
      "Running DDIM Sampling with 50 timesteps\n"
     ]
    },
    {
     "name": "stderr",
     "output_type": "stream",
     "text": [
      "DDIM Sampler: 100%|██████████████████████████████████████████████████████████████████████| 50/50 [00:08<00:00,  6.04it/s]\n"
     ]
    },
    {
     "name": "stdout",
     "output_type": "stream",
     "text": [
      "94\n",
      "Data shape for DDIM sampling is (1, 4, 96, 96), eta 0\n",
      "Running DDIM Sampling with 50 timesteps\n"
     ]
    },
    {
     "name": "stderr",
     "output_type": "stream",
     "text": [
      "DDIM Sampler: 100%|██████████████████████████████████████████████████████████████████████| 50/50 [00:08<00:00,  6.03it/s]\n"
     ]
    },
    {
     "name": "stdout",
     "output_type": "stream",
     "text": [
      "95\n",
      "Data shape for DDIM sampling is (1, 4, 96, 96), eta 0\n",
      "Running DDIM Sampling with 50 timesteps\n"
     ]
    },
    {
     "name": "stderr",
     "output_type": "stream",
     "text": [
      "DDIM Sampler: 100%|██████████████████████████████████████████████████████████████████████| 50/50 [00:08<00:00,  6.04it/s]\n"
     ]
    },
    {
     "name": "stdout",
     "output_type": "stream",
     "text": [
      "96\n",
      "Data shape for DDIM sampling is (1, 4, 96, 96), eta 0\n",
      "Running DDIM Sampling with 50 timesteps\n"
     ]
    },
    {
     "name": "stderr",
     "output_type": "stream",
     "text": [
      "DDIM Sampler: 100%|██████████████████████████████████████████████████████████████████████| 50/50 [00:08<00:00,  6.03it/s]\n"
     ]
    },
    {
     "name": "stdout",
     "output_type": "stream",
     "text": [
      "97\n",
      "Data shape for DDIM sampling is (1, 4, 96, 96), eta 0\n",
      "Running DDIM Sampling with 50 timesteps\n"
     ]
    },
    {
     "name": "stderr",
     "output_type": "stream",
     "text": [
      "DDIM Sampler: 100%|██████████████████████████████████████████████████████████████████████| 50/50 [00:08<00:00,  6.03it/s]\n"
     ]
    },
    {
     "name": "stdout",
     "output_type": "stream",
     "text": [
      "98\n",
      "Data shape for DDIM sampling is (1, 4, 96, 96), eta 0\n",
      "Running DDIM Sampling with 50 timesteps\n"
     ]
    },
    {
     "name": "stderr",
     "output_type": "stream",
     "text": [
      "DDIM Sampler: 100%|██████████████████████████████████████████████████████████████████████| 50/50 [00:08<00:00,  6.03it/s]\n"
     ]
    },
    {
     "name": "stdout",
     "output_type": "stream",
     "text": [
      "99\n",
      "Data shape for DDIM sampling is (1, 4, 96, 96), eta 0\n",
      "Running DDIM Sampling with 50 timesteps\n"
     ]
    },
    {
     "name": "stderr",
     "output_type": "stream",
     "text": [
      "DDIM Sampler: 100%|██████████████████████████████████████████████████████████████████████| 50/50 [00:08<00:00,  6.04it/s]\n"
     ]
    }
   ],
   "source": [
    "# Directory to save generated images\n",
    "output_dir = 'selected_label_experiment/generated_image_perturbed_eps16_jpg'\n",
    "os.makedirs(output_dir, exist_ok=True)  # Create directory if not exists\n",
    "generate_from=\"image\"\n",
    "if generate_from==\"embedding\":\n",
    "    X_advs = np.load('/home/rishi/code/adversarial_collisions/outputs/imagenet/16_tingwei/x_advs.npy')\n",
    "    X_advs = torch.tensor(X_advs)\n",
    "    with torch.no_grad():\n",
    "        for i, img in enumerate(X_advs):\n",
    "            print(i)\n",
    "            embeddings = image_model.forward({'vision': img.unsqueeze(0)}, normalize=False)\n",
    "            x_samples = generate_image_iamge(embeddings['vision'])\n",
    "            save_image(x_samples[0], os.path.join(output_dir, f'image_{i}.png'))\n",
    "elif generate_from==\"image\":\n",
    "   # Iterate through the saved images\n",
    "    for i in range(len(x_inits)):\n",
    "        print(i)\n",
    "        image_path = os.path.join(\"/home/eugene/BindDiffusion/selected_label_experiment/perturbed_image_jpg\", f'image_{i}.jpg')\n",
    "        # Open the image using PIL\n",
    "        inputs = {'vision': data.load_and_transform_vision_data([image_path], 'cpu')}\n",
    "        embeddings = binder.model(inputs)\n",
    "        x_samples = generate_image_iamge(embeddings['vision'])\n",
    "        save_image(x_samples[0], os.path.join(output_dir, f'image_{i}.png'))\n"
   ]
  },
  {
   "cell_type": "markdown",
   "id": "d40b15fc-9ae0-4bf3-92d0-cd607fb040d3",
   "metadata": {},
   "source": [
    "### 4. Evaluation of the generated images"
   ]
  },
  {
   "cell_type": "code",
   "execution_count": 34,
   "id": "1613a018-ab17-4fca-9c82-86246bc7ccfc",
   "metadata": {},
   "outputs": [],
   "source": [
    "# Load the numpy arrays from file\n",
    "orig_label_path = 'outputs/imagenet/16_tingwei/y_origs.npy'\n",
    "y_ids_path = 'outputs/imagenet/16_tingwei/y_ids.npy'\n",
    "orig_labels = np.load(orig_label_path)\n",
    "y_ids = np.load(y_ids_path)\n",
    "# Convert numpy arrays to lists of integers\n",
    "orig_labels_list = orig_labels.tolist()\n",
    "y_ids_list = y_ids.tolist()"
   ]
  },
  {
   "cell_type": "code",
   "execution_count": 46,
   "id": "30aff178-bc33-4644-8b90-9fc25a248dca",
   "metadata": {},
   "outputs": [],
   "source": [
    "# ImageNet class labels\n",
    "IMAGENET_LABELS_URL = \"https://storage.googleapis.com/download.tensorflow.org/data/imagenet_class_index.json\"\n",
    "class_idx = json.loads(requests.get(IMAGENET_LABELS_URL).text)\n",
    "idx2label = [class_idx[str(k)][1] for k in range(len(class_idx))]\n",
    "\n",
    "# Image processing pipeline for EfficientNet\n",
    "transform = transforms.Compose([\n",
    "    transforms.Resize(256),\n",
    "    transforms.CenterCrop(224),\n",
    "    transforms.ToTensor(),\n",
    "    transforms.Normalize(mean=[0.485, 0.456, 0.406], std=[0.229, 0.224, 0.225]),\n",
    "])\n",
    "\n",
    "# Load EfficientNet-B7\n",
    "efficientnet = models.efficientnet_b7(pretrained=True).eval()\n",
    "\n",
    "image_processor = ViTFeatureExtractor.from_pretrained(\"google/vit-base-patch16-224\")\n",
    "vit_model = ViTForImageClassification.from_pretrained(\"google/vit-base-patch16-224\")\n",
    "\n",
    "def classify_efficientnet(image_path):\n",
    "    \"\"\"Classify image using EfficientNet-B7 and return top-5 labels and indices.\"\"\"\n",
    "    image = Image.open(image_path).convert('RGB')\n",
    "    image = transform(image).unsqueeze(0)\n",
    "    \n",
    "    with torch.no_grad():\n",
    "        outputs = efficientnet(image)\n",
    "        # Get the top-5 predictions\n",
    "        _, predicted_indices = torch.topk(outputs, 5)\n",
    "        predicted_labels = [idx2label[idx] for idx in predicted_indices[0]]\n",
    "\n",
    "    return predicted_labels, predicted_indices[0].tolist()\n",
    "\n",
    "def classify_vit(image_path):\n",
    "    \"\"\"Classify image using Vision Transformer and return top-5 labels and indices.\"\"\"\n",
    "    image = Image.open(image_path)\n",
    "    inputs = image_processor(image, return_tensors=\"pt\")\n",
    "    with torch.no_grad():\n",
    "        logits = vit_model(**inputs).logits\n",
    "        # Get the top-5 predictions\n",
    "        _, predicted_indices = torch.topk(logits, 5)\n",
    "        predicted_labels = [idx2label[idx] for idx in predicted_indices[0]]\n",
    "\n",
    "    return predicted_labels, predicted_indices[0].tolist()\n",
    "\n",
    "labels_unperturbed = {}\n",
    "results_unperturbed = []\n",
    "labels_perturbed = {}\n",
    "results_perturbed = []\n",
    "labels_original = {}\n",
    "results_original = []\n",
    "\n",
    "# Directory containing your images\n",
    "image_directory = \"selected_label_experiment/generated_image_unperturbed_eps16\"  # replace with your directory path\n",
    "for i in range(100):  # limit to first 100 images\n",
    "    image_filename = f\"image_{i}.png\"\n",
    "    image_path = os.path.join(image_directory, image_filename)\n",
    "    \n",
    "    # Check if the file exists\n",
    "    if os.path.isfile(image_path):\n",
    "        label1, result1 = classify_vit(image_path)\n",
    "        results_unperturbed.append(result1)\n",
    "        labels_unperturbed[image_filename] = label1\n",
    "    else:\n",
    "        print(f\"The file {image_path} does not exist.\")\n",
    "\n",
    "# Directory containing your images\n",
    "image_directory = \"elected_label_experiment/generated_image_perturbed_eps16_jpg\"  # replace with your directory path\n",
    "# Loop through the images by index\n",
    "for i in range(100):  # limit to first 100 images\n",
    "    image_filename = f\"image_{i}.png\"\n",
    "    image_path = os.path.join(image_directory, image_filename)\n",
    "    \n",
    "    # Check if the file exists\n",
    "    if os.path.isfile(image_path):\n",
    "        label1, result1 = classify_vit(image_path)\n",
    "        results_perturbed.append(result1)\n",
    "        labels_original[image_filename] = label1\n",
    "    else:\n",
    "        print(f\"The file {image_path} does not exist.\")\n",
    "\n",
    "# Directory containing your images\n",
    "image_directory = \"/home/eugene/BindDiffusion/original_image\"  # replace with your directory path\n",
    "# Loop through the images by index\n",
    "for i in range(100):  # limit to first 100 images\n",
    "    image_filename = f\"image_{i}.png\"\n",
    "    image_path = os.path.join(image_directory, image_filename)\n",
    "    \n",
    "    # Check if the file exists\n",
    "    if os.path.isfile(image_path):\n",
    "        label1, result1 = classify_vit(image_path)\n",
    "        results_original.append(result1)\n",
    "        labels_original[image_filename] = label1\n",
    "    else:\n",
    "        print(f\"The file {image_path} does not exist.\")"
   ]
  },
  {
   "cell_type": "code",
   "execution_count": 144,
   "id": "5340b1d8-e1d1-4680-b603-d5041c0a28c4",
   "metadata": {},
   "outputs": [
    {
     "name": "stdout",
     "output_type": "stream",
     "text": [
      "The top-1 accuracy for unperturbed image and original label is: 85.00%\n",
      "The top-1 accuracy for generated image on original image and original label is: 32.00%\n",
      "The top-1 accuracy for generated image on original image and target label is: 0.00%\n",
      "The top-1 accuracy for generated image on perturbed image and target label is: 38.00%\n",
      "The top-1 accuracy for generated image on perturbed image and original labelis: 0.00%\n",
      "The top-5 accuracy for unperturbed image and original label is: 99.00%\n",
      "The top-5 accuracy for generated image on original image and original label is: 60.00%\n",
      "The top-5 accuracy for generated image on original image and target label is: 0.00%\n",
      "The top-5 accuracy for generated image on perturbed image and target label is: 58.00%\n",
      "The top-5 accuracy for generated image on perturbed image and original labelis: 1.00%\n"
     ]
    }
   ],
   "source": [
    "correct_prediction1 = 0\n",
    "correct_prediction2 = 0\n",
    "correct_prediction3 = 0\n",
    "correct_prediction4 = 0\n",
    "correct_prediction5 = 0\n",
    "total_images = len(y_ids_list)\n",
    "\n",
    "for i in range(total_images):\n",
    "    # Check if the true label is in the top-5 predictions for the i-th image.\n",
    "    if orig_labels_list[i] == results_original[i][0]:\n",
    "        correct_prediction1 += 1       \n",
    "    if orig_labels_list[i] == results_unperturbed[i][0]:\n",
    "        correct_prediction2 += 1      \n",
    "    if y_ids_list[i] == results_unperturbed[i][0]:\n",
    "        correct_prediction3 += 1       \n",
    "    if y_ids_list[i] == results_perturbed[i][0]:\n",
    "        correct_prediction4 += 1       \n",
    "    if orig_labels_list[i] == results_perturbed[i][0]:\n",
    "        correct_prediction5 += 1         \n",
    "        \n",
    "# Compute the top-5 accuracy.\n",
    "top_1_accuracy1 = (correct_prediction1 / total_images) * 100\n",
    "top_1_accuracy2 = (correct_prediction2 / total_images) * 100\n",
    "top_1_accuracy3 = (correct_prediction3 / total_images) * 100\n",
    "top_1_accuracy4 = (correct_prediction4 / total_images) * 100\n",
    "top_1_accuracy5 = (correct_prediction5 / total_images) * 100\n",
    "print(f\"The top-1 accuracy for unperturbed image and original label is: {top_1_accuracy1:.2f}%\")\n",
    "print(f\"The top-1 accuracy for generated image on original image and original label is: {top_1_accuracy2:.2f}%\")\n",
    "print(f\"The top-1 accuracy for generated image on original image and target label is: {top_1_accuracy3:.2f}%\")\n",
    "print(f\"The top-1 accuracy for generated image on perturbed image and target label is: {top_1_accuracy4:.2f}%\")\n",
    "print(f\"The top-1 accuracy for generated image on perturbed image and original labelis: {top_1_accuracy5:.2f}%\")\n",
    "\n",
    "correct_prediction1 = 0\n",
    "correct_prediction2 = 0\n",
    "correct_prediction3 = 0\n",
    "correct_prediction4 = 0\n",
    "correct_prediction5 = 0\n",
    "\n",
    "for i in range(total_images):\n",
    "    # Check if the true label is in the top-5 predictions for the i-th image.\n",
    "    if orig_labels_list[i] == results_original[i][0]:\n",
    "        correct_prediction1 += 1       \n",
    "    if orig_labels_list[i] == results_unperturbed[i][0]:\n",
    "        correct_prediction2 += 1      \n",
    "    if y_ids_list[i] == results_unperturbed[i][0]:\n",
    "        correct_prediction3 += 1       \n",
    "    if y_ids_list[i] == results_perturbed[i][0]:\n",
    "        correct_prediction4 += 1       \n",
    "    if orig_labels_list[i] == results_perturbed[i][0]:\n",
    "        correct_prediction5 += 1         \n",
    "        \n",
    "# Compute the top-5 accuracy.\n",
    "top_5_accuracy1 = (correct_prediction1 / total_images) * 100\n",
    "top_5_accuracy2 = (correct_prediction2 / total_images) * 100\n",
    "top_5_accuracy3 = (correct_prediction3 / total_images) * 100\n",
    "top_5_accuracy4 = (correct_prediction4 / total_images) * 100\n",
    "top_5_accuracy5 = (correct_prediction5 / total_images) * 100\n",
    "print(f\"The top-5 accuracy for unperturbed image and original label is: {top_5_accuracy1:.2f}%\")\n",
    "print(f\"The top-5 accuracy for generated image on original image and original label is: {top_5_accuracy2:.2f}%\")\n",
    "print(f\"The top-5 accuracy for generated image on original image and target label is: {top_5_accuracy3:.2f}%\")\n",
    "print(f\"The top-5 accuracy for generated image on perturbed image and target label is: {top_5_accuracy4:.2f}%\")\n",
    "print(f\"The top-5 accuracy for generated image on perturbed image and original labelis: {top_5_accuracy5:.2f}%\")"
   ]
  }
 ],
 "metadata": {
  "kernelspec": {
   "display_name": "Python [conda env:deepbind]",
   "language": "python",
   "name": "conda-env-deepbind-py"
  },
  "language_info": {
   "codemirror_mode": {
    "name": "ipython",
    "version": 3
   },
   "file_extension": ".py",
   "mimetype": "text/x-python",
   "name": "python",
   "nbconvert_exporter": "python",
   "pygments_lexer": "ipython3",
   "version": "3.9.16"
  }
 },
 "nbformat": 4,
 "nbformat_minor": 5
}
